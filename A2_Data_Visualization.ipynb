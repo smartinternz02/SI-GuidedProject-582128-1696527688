{
  "cells": [
    {
      "cell_type": "code",
      "execution_count": null,
      "metadata": {
        "id": "17tkYjgv80SI"
      },
      "outputs": [],
      "source": [
        "print(\"Name: Yash Yadav\")\n",
        "print(\"RegNo: 21BRS1344\")\n",
        "\n",
        "#import libraries\n",
        "\n",
        "import pandas as pd\n",
        "import numpy as np\n",
        "import matplotlib.pyplot as plt\n",
        "from matplotlib import rcParams\n",
        "import seaborn as sns"
      ]
    },
    {
      "cell_type": "code",
      "execution_count": null,
      "metadata": {
        "id": "N-BRNX4i80SK"
      },
      "outputs": [],
      "source": [
        "# Task 1. Downloading the Dataset.\n",
        "# Task 2. Loading the Dataset.\n",
        "\n",
        "df=pd.read_csv(r\"C:\\Users\\hp\\Downloads\\archive (6)\\House Price India.csv\")\n",
        "df.head()"
      ]
    },
    {
      "cell_type": "code",
      "execution_count": null,
      "metadata": {
        "id": "0hCvecFt80SK"
      },
      "outputs": [],
      "source": [
        "# Task 3. Univariate, Bivariate and Multivariate Analysis.\n",
        "\n",
        "# Univariate Analysis - 1\n",
        "df['lot area'].plot()\n",
        "plt.show()\n"
      ]
    },
    {
      "cell_type": "code",
      "execution_count": null,
      "metadata": {
        "id": "l95INm8d80SL"
      },
      "outputs": [],
      "source": [
        "# Univariate Analysis - 2.\n",
        "\n",
        "sns.histplot(df['Price'])\n",
        "plt.title('Histogram for Price')\n",
        "plt.show()"
      ]
    },
    {
      "cell_type": "code",
      "execution_count": null,
      "metadata": {
        "id": "irgLKAmq80SL"
      },
      "outputs": [],
      "source": [
        "# Univariate Analysis - 3.\n",
        "\n",
        "plt.boxplot(df['number of floors'])\n",
        "plt.title('Box Plot for Number of Floors')\n",
        "plt.ylabel('Number of Floors')\n",
        "plt.show()"
      ]
    },
    {
      "cell_type": "code",
      "execution_count": null,
      "metadata": {
        "id": "LobZqFkC80SL"
      },
      "outputs": [],
      "source": [
        "# Univariate Analysis - 4.\n",
        "\n",
        "sns.distplot(df['Price'])\n",
        "plt.title('Distribution Plot for Price')\n",
        "plt.xlabel('Price')\n",
        "plt.show()"
      ]
    },
    {
      "cell_type": "code",
      "execution_count": null,
      "metadata": {
        "id": "B9cwDvjq80SL"
      },
      "outputs": [],
      "source": [
        "# Bivaraiate Analysis - 1.\n",
        "\n",
        "x= df['Built Year']\n",
        "y= df['Price']\n",
        "\n",
        "plt.bar(x,y)\n",
        "plt.title('Bar Plot for Built Year vs Price')\n",
        "plt.xlabel('Built Year')\n",
        "plt.ylabel('Price')\n",
        "\n",
        "plt.show()"
      ]
    },
    {
      "cell_type": "code",
      "execution_count": null,
      "metadata": {
        "id": "RwB2Qa0O80SM"
      },
      "outputs": [],
      "source": [
        "# Bivaraiate Analysis - 2.\n",
        "\n",
        "plt.plot(x,y)\n",
        "plt.title('Plot for Built Year vs Price')\n",
        "plt.xlabel('Built Year')\n",
        "plt.ylabel('Price')\n",
        "plt.show()"
      ]
    },
    {
      "cell_type": "code",
      "execution_count": null,
      "metadata": {
        "id": "QJbZtVT280SM"
      },
      "outputs": [],
      "source": [
        "# Bivaraiate Analysis - 3.\n",
        "\n",
        "plt.figure(figsize=(8,5))\n",
        "plt.scatter(x,y)\n",
        "plt.title('Scatter Plot for Built Year vs Price')\n",
        "plt.xlabel('Built Year')\n",
        "plt.ylabel('Price')\n",
        "plt.show()\n"
      ]
    },
    {
      "cell_type": "code",
      "execution_count": null,
      "metadata": {
        "id": "czFHMjjP80SM"
      },
      "outputs": [],
      "source": [
        "# Bivaraiate Analysis - 4.\n",
        "\n",
        "plt.figure(figsize=(40,30))\n",
        "sns.jointplot(x,y)\n",
        "plt.title('Joint Plot for Built Year vs Price')\n",
        "plt.xlabel('Built Year')\n",
        "plt.ylabel('Price')\n",
        "plt.show()"
      ]
    },
    {
      "cell_type": "code",
      "execution_count": null,
      "metadata": {
        "id": "2coIs7MM80SM"
      },
      "outputs": [],
      "source": [
        "# Bivaraite Analysis - 5.\n",
        "\n",
        "sns.lineplot(x,y,marker='o')\n",
        "plt.title(' Line Plot for Built Year vs Price')\n",
        "plt.xlabel('Built Year')\n",
        "plt.ylabel('Price')\n",
        "plt.grid(True)\n",
        "plt.show()"
      ]
    },
    {
      "cell_type": "code",
      "execution_count": null,
      "metadata": {
        "id": "iS0nvB9880SN"
      },
      "outputs": [],
      "source": [
        "# Multivariate Analysis - 1.\n",
        "\n",
        "l=df.columns.tolist()\n",
        "\n",
        "sns.pairplot(df,vars=l)\n",
        "plt.title(f'Pairplot between {\", \".join(l)}')\n",
        "plt.figure(figsize=(8, 5))\n",
        "plt.show()\n"
      ]
    },
    {
      "cell_type": "code",
      "execution_count": null,
      "metadata": {
        "id": "3coMwov680SN"
      },
      "outputs": [],
      "source": [
        "# Multivariate Analysis - 2.\n",
        "\n",
        "l=df.columns.tolist()\n",
        "\n",
        "plt.figure(figsize=(40,30))\n",
        "sns.heatmap(df.corr(), annot=True, cmap='coolwarm', linewidths=1)\n",
        "plt.title(f'Correlation Heatmap between {\", \".join(l)}')\n",
        "plt.show()"
      ]
    },
    {
      "cell_type": "code",
      "execution_count": null,
      "metadata": {
        "id": "Mm7q4sPL80SN"
      },
      "outputs": [],
      "source": [
        "# Task 4. Desripitive Analysis.\n",
        "\n",
        "df.describe()\n"
      ]
    },
    {
      "cell_type": "code",
      "execution_count": null,
      "metadata": {
        "id": "bHqxHUHt80SN"
      },
      "outputs": [],
      "source": [
        "# Task 5. Handling the Missing Values.\n",
        "\n",
        "df.isnull().any()\n",
        "\n",
        "#Since there is no Missing Values, there is no need to handle them."
      ]
    },
    {
      "cell_type": "code",
      "execution_count": null,
      "metadata": {
        "id": "Fw1qRiRx80SO"
      },
      "outputs": [],
      "source": [
        "# df['age'].fillna(df['age'].median(),inplace =True)"
      ]
    }
  ],
  "metadata": {
    "kernelspec": {
      "display_name": "Python 3.8.8 ('base')",
      "language": "python",
      "name": "python3"
    },
    "language_info": {
      "codemirror_mode": {
        "name": "ipython",
        "version": 3
      },
      "file_extension": ".py",
      "mimetype": "text/x-python",
      "name": "python",
      "nbconvert_exporter": "python",
      "pygments_lexer": "ipython3",
      "version": "3.8.8"
    },
    "orig_nbformat": 4,
    "vscode": {
      "interpreter": {
        "hash": "b302cdd1e032ee910f5c889c3360c28564c92ad4f326fc3102e39fbe47faee66"
      }
    },
    "colab": {
      "provenance": []
    }
  },
  "nbformat": 4,
  "nbformat_minor": 0
}